{
 "cells": [
  {
   "cell_type": "markdown",
   "id": "664134f9-267d-4ad9-af9d-fdfd2920e40c",
   "metadata": {},
   "source": [
    "# Data Science Tools and Ecosystem"
   ]
  },
  {
   "cell_type": "markdown",
   "id": "71bc94c4-9fa3-4874-9f55-60c3aa0b10c1",
   "metadata": {},
   "source": [
    "In this notebook, Data science tools and ecosystem are summarized."
   ]
  },
  {
   "cell_type": "markdown",
   "id": "de8c1724-6a49-430a-b064-c49d5547ed3b",
   "metadata": {},
   "source": [
    "**Objectives**\n",
    "* List popular languages for Data Science\n",
    "* Commonly used libraries for Data Science\n",
    "* Data Science Tools"
   ]
  },
  {
   "cell_type": "markdown",
   "id": "a39083ac-6d02-4a33-bfe1-4f1d9638f353",
   "metadata": {
    "tags": []
   },
   "source": [
    "Some of the popular languages that Data Scientists use are:\n",
    "1. Python\n",
    "2. R\n",
    "3. Scalar"
   ]
  },
  {
   "cell_type": "markdown",
   "id": "6af393e3-3962-4247-972c-780fe067d1a5",
   "metadata": {},
   "source": [
    "Some of the commonly used libraries used by Data Scientists include:\n",
    "1. NumPy\n",
    "2. Pandas\n",
    "3. Matplotlib"
   ]
  },
  {
   "cell_type": "markdown",
   "id": "efb8e37d-2d90-427f-a308-cc8d21bb2a06",
   "metadata": {
    "tags": []
   },
   "source": [
    "| Data Science Tools |\n",
    "|:------------------:|\n",
    "|  Jupyter Lab       |\n",
    "|  GitHub            |\n",
    "|  PyCharm           |"
   ]
  },
  {
   "cell_type": "markdown",
   "id": "5c53ea99-e965-4886-ac4f-90a66d4aeb3d",
   "metadata": {},
   "source": [
    "*** \n",
    "### Below are a few examples evaluating arithmetic expressions in Python"
   ]
  },
  {
   "cell_type": "code",
   "execution_count": 1,
   "id": "4a74bb91-7852-4444-b842-34629727a017",
   "metadata": {},
   "outputs": [
    {
     "name": "stdout",
     "output_type": "stream",
     "text": [
      "17\n"
     ]
    }
   ],
   "source": [
    "# This a simple arithmetic expression to mutiply then add integers\n",
    "\n",
    "print((3*4) + 5)"
   ]
  },
  {
   "cell_type": "code",
   "execution_count": 2,
   "id": "52e22f6b-622e-451e-b12d-4cf4e9c28cd9",
   "metadata": {},
   "outputs": [
    {
     "name": "stdout",
     "output_type": "stream",
     "text": [
      "Hours= 3\n",
      "Minutes= 20\n"
     ]
    }
   ],
   "source": [
    "# This will convert 200 minutes to hours by diving by 60\n",
    "\n",
    "h=200//60\n",
    "m=200%60\n",
    "print(\"Hours=\", h)\n",
    "print(\"Minutes=\",m)\n"
   ]
  },
  {
   "cell_type": "markdown",
   "id": "8dba58b2-7817-4d95-a7ee-5aa404910254",
   "metadata": {},
   "source": [
    "## Author\n",
    "Ho Kwok Hei"
   ]
  },
  {
   "cell_type": "code",
   "execution_count": null,
   "id": "25e10ce5-7440-4704-8108-bda71fab2b07",
   "metadata": {},
   "outputs": [],
   "source": []
  }
 ],
 "metadata": {
  "kernelspec": {
   "display_name": "Python 3 (ipykernel)",
   "language": "python",
   "name": "python3"
  },
  "language_info": {
   "codemirror_mode": {
    "name": "ipython",
    "version": 3
   },
   "file_extension": ".py",
   "mimetype": "text/x-python",
   "name": "python",
   "nbconvert_exporter": "python",
   "pygments_lexer": "ipython3",
   "version": "3.11.0"
  }
 },
 "nbformat": 4,
 "nbformat_minor": 5
}
